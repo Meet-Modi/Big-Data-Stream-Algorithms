{
  "nbformat": 4,
  "nbformat_minor": 0,
  "metadata": {
    "kernelspec": {
      "display_name": "Python 3",
      "language": "python",
      "name": "python3"
    },
    "language_info": {
      "codemirror_mode": {
        "name": "ipython",
        "version": 3
      },
      "file_extension": ".py",
      "mimetype": "text/x-python",
      "name": "python",
      "nbconvert_exporter": "python",
      "pygments_lexer": "ipython3",
      "version": "3.7.4"
    },
    "colab": {
      "name": "AOBD_Assignment_11.ipynb",
      "provenance": [],
      "collapsed_sections": []
    }
  },
  "cells": [
    {
      "cell_type": "markdown",
      "metadata": {
        "id": "7sMy4ypIMjNp",
        "colab_type": "text"
      },
      "source": [
        "**ID3 Algorithm**"
      ]
    },
    {
      "cell_type": "markdown",
      "metadata": {
        "id": "4JK8Ua9eQbvz",
        "colab_type": "text"
      },
      "source": [
        "**Importing libraries and dataset**"
      ]
    },
    {
      "cell_type": "code",
      "metadata": {
        "id": "oxWMDtVJMjNp",
        "colab_type": "code",
        "colab": {}
      },
      "source": [
        "import numpy as np\n",
        "import pandas as pd\n",
        "eps = np.finfo(float).eps\n",
        "from numpy import log2 as log"
      ],
      "execution_count": 0,
      "outputs": []
    },
    {
      "cell_type": "code",
      "metadata": {
        "id": "YCocuwJyMjNt",
        "colab_type": "code",
        "colab": {}
      },
      "source": [
        "df = pd.read_csv('/content/ID3_data.csv')"
      ],
      "execution_count": 0,
      "outputs": []
    },
    {
      "cell_type": "code",
      "metadata": {
        "id": "kjzqY0g9MjNx",
        "colab_type": "code",
        "colab": {
          "base_uri": "https://localhost:8080/",
          "height": 462
        },
        "outputId": "9f5f220a-3d3a-4d3e-90df-bfba4e08efbb"
      },
      "source": [
        "df"
      ],
      "execution_count": 3,
      "outputs": [
        {
          "output_type": "execute_result",
          "data": {
            "text/html": [
              "<div>\n",
              "<style scoped>\n",
              "    .dataframe tbody tr th:only-of-type {\n",
              "        vertical-align: middle;\n",
              "    }\n",
              "\n",
              "    .dataframe tbody tr th {\n",
              "        vertical-align: top;\n",
              "    }\n",
              "\n",
              "    .dataframe thead th {\n",
              "        text-align: right;\n",
              "    }\n",
              "</style>\n",
              "<table border=\"1\" class=\"dataframe\">\n",
              "  <thead>\n",
              "    <tr style=\"text-align: right;\">\n",
              "      <th></th>\n",
              "      <th>outlook</th>\n",
              "      <th>temp</th>\n",
              "      <th>humidity</th>\n",
              "      <th>windy</th>\n",
              "      <th>play</th>\n",
              "    </tr>\n",
              "  </thead>\n",
              "  <tbody>\n",
              "    <tr>\n",
              "      <th>0</th>\n",
              "      <td>overcast</td>\n",
              "      <td>hot</td>\n",
              "      <td>high</td>\n",
              "      <td>False</td>\n",
              "      <td>yes</td>\n",
              "    </tr>\n",
              "    <tr>\n",
              "      <th>1</th>\n",
              "      <td>overcast</td>\n",
              "      <td>cool</td>\n",
              "      <td>normal</td>\n",
              "      <td>True</td>\n",
              "      <td>yes</td>\n",
              "    </tr>\n",
              "    <tr>\n",
              "      <th>2</th>\n",
              "      <td>overcast</td>\n",
              "      <td>mild</td>\n",
              "      <td>high</td>\n",
              "      <td>True</td>\n",
              "      <td>yes</td>\n",
              "    </tr>\n",
              "    <tr>\n",
              "      <th>3</th>\n",
              "      <td>overcast</td>\n",
              "      <td>hot</td>\n",
              "      <td>normal</td>\n",
              "      <td>False</td>\n",
              "      <td>yes</td>\n",
              "    </tr>\n",
              "    <tr>\n",
              "      <th>4</th>\n",
              "      <td>rainy</td>\n",
              "      <td>mild</td>\n",
              "      <td>high</td>\n",
              "      <td>False</td>\n",
              "      <td>yes</td>\n",
              "    </tr>\n",
              "    <tr>\n",
              "      <th>5</th>\n",
              "      <td>rainy</td>\n",
              "      <td>cool</td>\n",
              "      <td>normal</td>\n",
              "      <td>False</td>\n",
              "      <td>yes</td>\n",
              "    </tr>\n",
              "    <tr>\n",
              "      <th>6</th>\n",
              "      <td>rainy</td>\n",
              "      <td>cool</td>\n",
              "      <td>normal</td>\n",
              "      <td>True</td>\n",
              "      <td>no</td>\n",
              "    </tr>\n",
              "    <tr>\n",
              "      <th>7</th>\n",
              "      <td>rainy</td>\n",
              "      <td>mild</td>\n",
              "      <td>normal</td>\n",
              "      <td>False</td>\n",
              "      <td>yes</td>\n",
              "    </tr>\n",
              "    <tr>\n",
              "      <th>8</th>\n",
              "      <td>rainy</td>\n",
              "      <td>mild</td>\n",
              "      <td>high</td>\n",
              "      <td>True</td>\n",
              "      <td>no</td>\n",
              "    </tr>\n",
              "    <tr>\n",
              "      <th>9</th>\n",
              "      <td>sunny</td>\n",
              "      <td>hot</td>\n",
              "      <td>high</td>\n",
              "      <td>False</td>\n",
              "      <td>no</td>\n",
              "    </tr>\n",
              "    <tr>\n",
              "      <th>10</th>\n",
              "      <td>sunny</td>\n",
              "      <td>hot</td>\n",
              "      <td>high</td>\n",
              "      <td>True</td>\n",
              "      <td>no</td>\n",
              "    </tr>\n",
              "    <tr>\n",
              "      <th>11</th>\n",
              "      <td>sunny</td>\n",
              "      <td>mild</td>\n",
              "      <td>high</td>\n",
              "      <td>False</td>\n",
              "      <td>no</td>\n",
              "    </tr>\n",
              "    <tr>\n",
              "      <th>12</th>\n",
              "      <td>sunny</td>\n",
              "      <td>cool</td>\n",
              "      <td>normal</td>\n",
              "      <td>False</td>\n",
              "      <td>yes</td>\n",
              "    </tr>\n",
              "    <tr>\n",
              "      <th>13</th>\n",
              "      <td>sunny</td>\n",
              "      <td>mild</td>\n",
              "      <td>normal</td>\n",
              "      <td>True</td>\n",
              "      <td>yes</td>\n",
              "    </tr>\n",
              "  </tbody>\n",
              "</table>\n",
              "</div>"
            ],
            "text/plain": [
              "     outlook  temp humidity  windy play\n",
              "0   overcast   hot     high  False  yes\n",
              "1   overcast  cool   normal   True  yes\n",
              "2   overcast  mild     high   True  yes\n",
              "3   overcast   hot   normal  False  yes\n",
              "4      rainy  mild     high  False  yes\n",
              "5      rainy  cool   normal  False  yes\n",
              "6      rainy  cool   normal   True   no\n",
              "7      rainy  mild   normal  False  yes\n",
              "8      rainy  mild     high   True   no\n",
              "9      sunny   hot     high  False   no\n",
              "10     sunny   hot     high   True   no\n",
              "11     sunny  mild     high  False   no\n",
              "12     sunny  cool   normal  False  yes\n",
              "13     sunny  mild   normal   True  yes"
            ]
          },
          "metadata": {
            "tags": []
          },
          "execution_count": 3
        }
      ]
    },
    {
      "cell_type": "markdown",
      "metadata": {
        "id": "SNhWpTPLQkuA",
        "colab_type": "text"
      },
      "source": [
        "Finding entropy of data D,     \\\\\n",
        "Info(D) = $-\\sum_{i=1}^{m}p_ilog_2(p_i)$  \\\\\n",
        "Where $p_i$ is the probability that an atribute tuple in D belongs to class $C_i$ and \\\\\n",
        " is estimated by $\\dfrac{\\mid C_{i,D} \\mid}{\\mid D \\mid}$"
      ]
    },
    {
      "cell_type": "code",
      "metadata": {
        "id": "3nlp0EwzMjN4",
        "colab_type": "code",
        "colab": {}
      },
      "source": [
        "def find_entropy(df):\n",
        "    Class = df.keys()[-1]   #To make the code generic, changing target variable class name\n",
        "    entropy = 0\n",
        "    values = df[Class].unique()\n",
        "    for value in values:\n",
        "        fraction = df[Class].value_counts()[value]/len(df[Class])\n",
        "        entropy += -fraction*np.log2(fraction)\n",
        "    return entropy\n",
        "  "
      ],
      "execution_count": 0,
      "outputs": []
    },
    {
      "cell_type": "markdown",
      "metadata": {
        "id": "kTJfNqSOScMc",
        "colab_type": "text"
      },
      "source": [
        "Entropy of data D for given attribute A,  \\\\\n",
        "$Info_A(D) = \\sum_{i=1}^{v} \\dfrac{\\mid D_j \\mid}{\\mid D \\mid} Info(D_j)$   \\\\\n",
        "$\\dfrac{\\mid D_j \\mid}{\\mid D \\mid}$ is weight of the $j^{th}$ partition."
      ]
    },
    {
      "cell_type": "code",
      "metadata": {
        "id": "h_Y26_0LMjN8",
        "colab_type": "code",
        "colab": {}
      },
      "source": [
        "def find_entropy_attribute(df,attribute):\n",
        "    Class = df.keys()[-1]   #To make the code generic, changing target variable class name\n",
        "    target_variables = df[Class].unique()  #This gives all 'Yes' and 'No'\n",
        "    variables = df[attribute].unique()    #This gives different features in that attribute (like 'Hot','Cold' in Temperature)\n",
        "    entropy2 = 0\n",
        "    for variable in variables:\n",
        "        entropy = 0\n",
        "        for target_variable in target_variables:\n",
        "            num = len(df[attribute][df[attribute]==variable][df[Class] ==target_variable])\n",
        "            den = len(df[attribute][df[attribute]==variable])\n",
        "            fraction = num/(den+eps)\n",
        "            entropy += -fraction*log(fraction+eps)\n",
        "        fraction2 = den/len(df)\n",
        "        entropy2 += -fraction2*entropy\n",
        "    return abs(entropy2)\n",
        "\n"
      ],
      "execution_count": 0,
      "outputs": []
    },
    {
      "cell_type": "markdown",
      "metadata": {
        "id": "WXuDy1JITcG6",
        "colab_type": "text"
      },
      "source": [
        "Finding the best attribute that has highest information gain."
      ]
    },
    {
      "cell_type": "code",
      "metadata": {
        "id": "UBPUv1b9MjN_",
        "colab_type": "code",
        "colab": {}
      },
      "source": [
        "def find_winner(df):\n",
        "    Entropy_att = []\n",
        "    IG = []\n",
        "    for key in df.keys()[:-1]:\n",
        "#         Entropy_att.append(find_entropy_attribute(df,key))\n",
        "        IG.append(find_entropy(df)-find_entropy_attribute(df,key))\n",
        "    return df.keys()[:-1][np.argmax(IG)]\n"
      ],
      "execution_count": 0,
      "outputs": []
    },
    {
      "cell_type": "code",
      "metadata": {
        "id": "ptQR8qM6MjOE",
        "colab_type": "code",
        "colab": {}
      },
      "source": [
        "def get_subtable(df, node,value):\n",
        "    return df[df[node] == value].reset_index(drop=True)\n"
      ],
      "execution_count": 0,
      "outputs": []
    },
    {
      "cell_type": "markdown",
      "metadata": {
        "id": "klnIJMjGTmVj",
        "colab_type": "text"
      },
      "source": [
        "Creating tree"
      ]
    },
    {
      "cell_type": "code",
      "metadata": {
        "id": "-lc7bgIwMjOH",
        "colab_type": "code",
        "colab": {}
      },
      "source": [
        "def buildTree(df,tree=None): \n",
        "    Class = df.keys()[-1]   #To make the code generic, changing target variable class name\n",
        "    \n",
        "    #Here we build our decision tree\n",
        "\n",
        "    #Get attribute with maximum information gain\n",
        "    node = find_winner(df)\n",
        "    \n",
        "    #Get distinct value of that attribute e.g Salary is node and Low,Med and High are values\n",
        "    attValue = np.unique(df[node])\n",
        "    \n",
        "    #Create an empty dictionary to create tree    \n",
        "    if tree is None:                    \n",
        "        tree={}\n",
        "        tree[node] = {}\n",
        "    \n",
        "   #We make loop to construct a tree by calling this function recursively. \n",
        "    #In this we check if the subset is pure and stops if it is pure. \n",
        "\n",
        "    for value in attValue:\n",
        "        \n",
        "        subtable = get_subtable(df,node,value)\n",
        "       # print(subtable)\n",
        "        clValue,counts = np.unique(subtable[Class],return_counts=True)                        \n",
        "        \n",
        "        if len(counts)==1:#Checking purity of subset\n",
        "            tree[node][value] = clValue[0]                                                    \n",
        "        else:        \n",
        "            tree[node][value] = buildTree(subtable) #Calling the function recursively \n",
        "                   \n",
        "    return tree"
      ],
      "execution_count": 0,
      "outputs": []
    },
    {
      "cell_type": "code",
      "metadata": {
        "id": "Su2RY2ZPMjOT",
        "colab_type": "code",
        "colab": {
          "base_uri": "https://localhost:8080/",
          "height": 70
        },
        "outputId": "6b7df7d1-eee7-49e5-dcd3-23b545180908"
      },
      "source": [
        "t = buildTree(df)\n",
        "import pprint\n",
        "\n",
        "pprint.pprint(t)"
      ],
      "execution_count": 9,
      "outputs": [
        {
          "output_type": "stream",
          "text": [
            "{'outlook': {'overcast': 'yes',\n",
            "             'rainy': {'windy': {False: 'yes', True: 'no'}},\n",
            "             'sunny': {'humidity': {'high': 'no', 'normal': 'yes'}}}}\n"
          ],
          "name": "stdout"
        }
      ]
    },
    {
      "cell_type": "code",
      "metadata": {
        "id": "DbHHZDvaOiPx",
        "colab_type": "code",
        "colab": {}
      },
      "source": [
        ""
      ],
      "execution_count": 0,
      "outputs": []
    },
    {
      "cell_type": "code",
      "metadata": {
        "id": "fEsi9agLOiMh",
        "colab_type": "code",
        "colab": {}
      },
      "source": [
        ""
      ],
      "execution_count": 0,
      "outputs": []
    },
    {
      "cell_type": "code",
      "metadata": {
        "id": "1e5mnMILOiKQ",
        "colab_type": "code",
        "colab": {}
      },
      "source": [
        ""
      ],
      "execution_count": 0,
      "outputs": []
    },
    {
      "cell_type": "code",
      "metadata": {
        "id": "qOONj5bdNPTb",
        "colab_type": "code",
        "colab": {}
      },
      "source": [
        ""
      ],
      "execution_count": 0,
      "outputs": []
    },
    {
      "cell_type": "code",
      "metadata": {
        "id": "C5EZ3wRbNPX1",
        "colab_type": "code",
        "colab": {}
      },
      "source": [
        ""
      ],
      "execution_count": 0,
      "outputs": []
    },
    {
      "cell_type": "markdown",
      "metadata": {
        "id": "ewZqWTNXNQxn",
        "colab_type": "text"
      },
      "source": [
        "**Implementation of CART Algorithm**"
      ]
    },
    {
      "cell_type": "markdown",
      "metadata": {
        "id": "11CK-ScuNUhc",
        "colab_type": "text"
      },
      "source": [
        "**Importing numpy library, and datasets from sklearn**"
      ]
    },
    {
      "cell_type": "code",
      "metadata": {
        "id": "UF-CXHvfNPab",
        "colab_type": "code",
        "colab": {}
      },
      "source": [
        "import numpy as np\n",
        "from sklearn import datasets"
      ],
      "execution_count": 0,
      "outputs": []
    },
    {
      "cell_type": "markdown",
      "metadata": {
        "id": "s59cyhY8ORgU",
        "colab_type": "text"
      },
      "source": [
        "**Creating node class**"
      ]
    },
    {
      "cell_type": "code",
      "metadata": {
        "id": "lpnWaxBINQKp",
        "colab_type": "code",
        "colab": {}
      },
      "source": [
        "class Node:\n",
        "    def __init__(self, pred_class):\n",
        "        self.pred_class = pred_class        # define the predicted class for node\n",
        "        self.left = None                              # initialize the left child of node\n",
        "        self.right = None                             # initialize the left child of node\n",
        "        self.feat_index = 0                        # initialize feature index of node\n",
        "        self.threshold = 0                            # initialize threshold of node\n",
        "        "
      ],
      "execution_count": 0,
      "outputs": []
    },
    {
      "cell_type": "markdown",
      "metadata": {
        "id": "PS8aJt4pOSw8",
        "colab_type": "text"
      },
      "source": [
        "Foe given data D, impurity is measured by Gini index. \\\\\n",
        "$Gini(D) = 1 - \\sum_{i=1}^{m}p_i^2$   \\\\\n",
        "\n",
        "For discrete-valued attribute A, impurity of D is,  \\\\\n",
        "$Gini_A(D) =  \\dfrac{\\mid D_1 \\mid}{\\mid D \\mid}Gini(D_1) + \\dfrac{\\mid D_2 \\mid}{\\mid D \\mid}Gini(D_2)$  \\\\\n",
        "where $D_1$ and $D_2$ are splitted data.\n",
        "\n",
        "\n",
        "For a discrete-valued attribute, the subset that gives the minimum gini index for that attribute is selected as its splitting subset. Which i have done in **best_split** method."
      ]
    },
    {
      "cell_type": "code",
      "metadata": {
        "id": "cE1u5fQoNPc9",
        "colab_type": "code",
        "colab": {}
      },
      "source": [
        "class DTC:\n",
        "    def __init__(self, max_depth=None):\n",
        "        self.max_depth = max_depth                # define how much depth the tree has\n",
        "\n",
        "    def fit(self, X, y):\n",
        "        self.n_classes = len(set(y))             # To get the number of distinct class from the data\n",
        "        self.n_features = X.shape[1]             # To get number of features in data\n",
        "        self.tree = self.make_tree(X, y)        # Make a tree\n",
        "\n",
        "    def make_tree(self, X, y, depth=0):\n",
        "        # finding number of samples of each class \n",
        "        samples_per_class = [np.sum(y == i) for i in range(self.n_classes)]         \n",
        "        # Get the class which has maximum number of samples\n",
        "        pred_class = np.argmax(samples_per_class)\n",
        "        # Creating node of class which has maximum number of samples\n",
        "        node = Node(pred_class=pred_class)\n",
        "\n",
        "        if depth < self.max_depth:\n",
        "            index, thr = self.best_split(X, y)     # get best feature index and threshold for given data\n",
        "            if index is not None:                   # if feature index exist\n",
        "                left_indices = X[:, index] < thr    # index whose data has less than threshold value\n",
        "                # splitting data in left and right\n",
        "                left_X, left_y = X[left_indices], y[left_indices]\n",
        "                right_X, right_y = X[~left_indices], y[~left_indices]\n",
        "                node.feat_index = index\n",
        "                node.threshold = thr\n",
        "                # making further node in splitted data\n",
        "                node.left = self.make_tree(left_X, left_y, depth + 1)\n",
        "                node.right = self.make_tree(right_X, right_y, depth + 1)\n",
        "        return node\n",
        "\n",
        "    def best_split(self, X, y):\n",
        "        m = y.size\n",
        "        if m <= 1:\n",
        "            return None, None\n",
        "        num_parent = [np.sum(y == k) for k in range(self.n_classes)]\n",
        "        best_gini = 1.0 - sum((n / m) ** 2 for n in num_parent)\n",
        "        best_index, best_thr = None, None\n",
        "        for index in range(self.n_features):\n",
        "            thresholds, classes = zip(*sorted(zip(X[:, index], y)))\n",
        "            num_left = [0] * self.n_classes    # assume left part contain zero samples\n",
        "            num_right = num_parent.copy()       # assume right part contain all samples\n",
        "            for i in range(1, m):\n",
        "                k = classes[i - 1]\n",
        "                num_left[k] += 1            # increase one in left part \n",
        "                num_right[k] -= 1           # decrease one in right part\n",
        "                # finding gini \n",
        "                gini_left = 1.0 - sum((num_left[x] / i) ** 2 for x in range(self.n_classes))\n",
        "                gini_right = 1.0 - sum((num_right[x] / (m - i)) ** 2 for x in range(self.n_classes))\n",
        "                gini = (i * gini_left + (m - i) * gini_right) / m\n",
        "                # if threshold of current sample and previous sample is same then skip\n",
        "                if thresholds[i] == thresholds[i - 1]:            \n",
        "                    continue\n",
        "                # if current gini is less than best gini\n",
        "                if gini < best_gini:\n",
        "                    best_gini = gini    # replace the best gini with current gini value\n",
        "                    best_index = index      # replace the feature index with current feature index\n",
        "                    best_thr = (thresholds[i] + thresholds[i - 1]) / 2\n",
        "        return best_index, best_thr\n",
        "\n",
        "    \n",
        "\n",
        "    def predict(self, inputs):\n",
        "        node = self.tree\n",
        "        while node.left:\n",
        "            if inputs[node.feat_index] < node.threshold:\n",
        "                node = node.left      # moving in left node if input is less than the threshold\n",
        "            else:\n",
        "                node = node.right\n",
        "        return node.pred_class\n",
        "\n",
        "    def pred(self, X):\n",
        "        return [self.predict(inputs) for inputs in X] \n",
        "    "
      ],
      "execution_count": 0,
      "outputs": []
    },
    {
      "cell_type": "code",
      "metadata": {
        "id": "2NL85rV7NPfN",
        "colab_type": "code",
        "colab": {
          "base_uri": "https://localhost:8080/",
          "height": 52
        },
        "outputId": "7f35c970-026f-437d-c8a8-d9547a1be852"
      },
      "source": [
        "dataset = datasets.load_iris()\n",
        "X, y = dataset.data, dataset.target  \n",
        "clf = DTC(max_depth=5)          # define the tree with given depth\n",
        "clf.fit(X, y)                   # train the model\n",
        "input = [0, 0, 5.0, 1.5]    \n",
        "pred = clf.pred([input])[0]      # predicting the class for given input\n",
        "print(\"Input: {}\".format(input))\n",
        "print(\"Prediction: \" + dataset.target_names[pred])"
      ],
      "execution_count": 13,
      "outputs": [
        {
          "output_type": "stream",
          "text": [
            "Input: [0, 0, 5.0, 1.5]\n",
            "Prediction: virginica\n"
          ],
          "name": "stdout"
        }
      ]
    },
    {
      "cell_type": "code",
      "metadata": {
        "id": "ral5xIbuNPWA",
        "colab_type": "code",
        "colab": {}
      },
      "source": [
        ""
      ],
      "execution_count": 0,
      "outputs": []
    }
  ]
}