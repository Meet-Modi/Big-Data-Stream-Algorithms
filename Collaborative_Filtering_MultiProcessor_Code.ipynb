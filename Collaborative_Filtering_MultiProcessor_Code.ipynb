{
  "nbformat": 4,
  "nbformat_minor": 0,
  "metadata": {
    "kernelspec": {
      "display_name": "Python 3",
      "language": "python",
      "name": "python3"
    },
    "language_info": {
      "codemirror_mode": {
        "name": "ipython",
        "version": 3
      },
      "file_extension": ".py",
      "mimetype": "text/x-python",
      "name": "python",
      "nbconvert_exporter": "python",
      "pygments_lexer": "ipython3",
      "version": "3.6.9"
    },
    "colab": {
      "name": "Assignment6.ipynb",
      "provenance": [],
      "collapsed_sections": []
    }
  },
  "cells": [
    {
      "cell_type": "markdown",
      "metadata": {
        "id": "5wpsjFUWpeMp",
        "colab_type": "text"
      },
      "source": [
        "**Collaborative filtering**\n",
        "\n",
        "**Distributed Stochastic Gradient Descent**\n",
        "In this method,we want to parellize the task of recieving stream data and giving it to many child processes for parelllel processing\n",
        "\n",
        "This can be achieved by dividing the rating matrix R into blocks for rach child processes\n"
      ]
    },
    {
      "cell_type": "markdown",
      "metadata": {
        "id": "CxvLWDjPqkxg",
        "colab_type": "text"
      },
      "source": [
        "**Importing Libraries**"
      ]
    },
    {
      "cell_type": "code",
      "metadata": {
        "id": "ofAvRT8EpFnK",
        "colab_type": "code",
        "colab": {}
      },
      "source": [
        "#Importing Libraries\n",
        "\n",
        "from sklearn import metrics\n",
        "import pandas as pd\n",
        "import numpy as np\n",
        "from pprint import pprint\n",
        "from sklearn.datasets import load_boston\n",
        "from numpy.linalg import inv, pinv, LinAlgError"
      ],
      "execution_count": 0,
      "outputs": []
    },
    {
      "cell_type": "markdown",
      "metadata": {
        "id": "_rbTuI-HqpGk",
        "colab_type": "text"
      },
      "source": [
        "**The dataset consists of user ratings for various item and the dataset is a sparse dataset**\n",
        "\n",
        "The dataset can be downloaded from the below cell"
      ]
    },
    {
      "cell_type": "code",
      "metadata": {
        "id": "St6MV8xCquVm",
        "colab_type": "code",
        "colab": {
          "base_uri": "https://localhost:8080/",
          "height": 98
        },
        "outputId": "b55b49f2-68a2-46a5-890b-1d4e5dc18056"
      },
      "source": [
        "!curl -O http://files.grouplens.org/datasets/movielens/ml-100k.zip\n",
        "!unzip ml-100k.zip"
      ],
      "execution_count": 30,
      "outputs": [
        {
          "output_type": "stream",
          "text": [
            "  % Total    % Received % Xferd  Average Speed   Time    Time     Time  Current\n",
            "                                 Dload  Upload   Total   Spent    Left  Speed\n",
            "\r  0     0    0     0    0     0      0      0 --:--:-- --:--:-- --:--:--     0\r100 4808k  100 4808k    0     0  9559k      0 --:--:-- --:--:-- --:--:-- 9559k\n",
            "Archive:  ml-100k.zip\n",
            "replace ml-100k/allbut.pl? [y]es, [n]o, [A]ll, [N]one, [r]ename: N\n"
          ],
          "name": "stdout"
        }
      ]
    },
    {
      "cell_type": "markdown",
      "metadata": {
        "id": "iZSRme7HrHt3",
        "colab_type": "text"
      },
      "source": [
        "**Reading the dataset and considering only first 2000 rows and doing preprocessing**"
      ]
    },
    {
      "cell_type": "code",
      "metadata": {
        "id": "IR__bZglrIj6",
        "colab_type": "code",
        "colab": {}
      },
      "source": [
        "names = ['user_id', 'item_id', 'rating', 'timestamp']\n",
        "df = pd.read_csv('/content/ml-100k/u.data', sep='\\t', names=names)\n",
        "\n",
        "# Split the dataframe into a train and test set\n",
        "from sklearn.model_selection import train_test_split\n",
        "train_data, test_data = train_test_split(df,test_size=0.3)\n",
        "\n",
        "\n",
        "train_data = pd.DataFrame(train_data)\n",
        "test_data = pd.DataFrame(test_data)\n"
      ],
      "execution_count": 0,
      "outputs": []
    },
    {
      "cell_type": "code",
      "metadata": {
        "id": "Ml8Fj_QjrR9a",
        "colab_type": "code",
        "colab": {
          "base_uri": "https://localhost:8080/",
          "height": 391
        },
        "outputId": "b57ee02f-1251-4529-f80b-dcaf9de71c50"
      },
      "source": [
        "n_u = len(df[\"user_id\"].unique())\n",
        "n_m = len(df[\"item_id\"].unique())\n",
        "df"
      ],
      "execution_count": 32,
      "outputs": [
        {
          "output_type": "execute_result",
          "data": {
            "text/html": [
              "<div>\n",
              "<style scoped>\n",
              "    .dataframe tbody tr th:only-of-type {\n",
              "        vertical-align: middle;\n",
              "    }\n",
              "\n",
              "    .dataframe tbody tr th {\n",
              "        vertical-align: top;\n",
              "    }\n",
              "\n",
              "    .dataframe thead th {\n",
              "        text-align: right;\n",
              "    }\n",
              "</style>\n",
              "<table border=\"1\" class=\"dataframe\">\n",
              "  <thead>\n",
              "    <tr style=\"text-align: right;\">\n",
              "      <th></th>\n",
              "      <th>user_id</th>\n",
              "      <th>item_id</th>\n",
              "      <th>rating</th>\n",
              "      <th>timestamp</th>\n",
              "    </tr>\n",
              "  </thead>\n",
              "  <tbody>\n",
              "    <tr>\n",
              "      <th>0</th>\n",
              "      <td>196</td>\n",
              "      <td>242</td>\n",
              "      <td>3</td>\n",
              "      <td>881250949</td>\n",
              "    </tr>\n",
              "    <tr>\n",
              "      <th>1</th>\n",
              "      <td>186</td>\n",
              "      <td>302</td>\n",
              "      <td>3</td>\n",
              "      <td>891717742</td>\n",
              "    </tr>\n",
              "    <tr>\n",
              "      <th>2</th>\n",
              "      <td>22</td>\n",
              "      <td>377</td>\n",
              "      <td>1</td>\n",
              "      <td>878887116</td>\n",
              "    </tr>\n",
              "    <tr>\n",
              "      <th>3</th>\n",
              "      <td>244</td>\n",
              "      <td>51</td>\n",
              "      <td>2</td>\n",
              "      <td>880606923</td>\n",
              "    </tr>\n",
              "    <tr>\n",
              "      <th>4</th>\n",
              "      <td>166</td>\n",
              "      <td>346</td>\n",
              "      <td>1</td>\n",
              "      <td>886397596</td>\n",
              "    </tr>\n",
              "    <tr>\n",
              "      <th>...</th>\n",
              "      <td>...</td>\n",
              "      <td>...</td>\n",
              "      <td>...</td>\n",
              "      <td>...</td>\n",
              "    </tr>\n",
              "    <tr>\n",
              "      <th>99995</th>\n",
              "      <td>880</td>\n",
              "      <td>476</td>\n",
              "      <td>3</td>\n",
              "      <td>880175444</td>\n",
              "    </tr>\n",
              "    <tr>\n",
              "      <th>99996</th>\n",
              "      <td>716</td>\n",
              "      <td>204</td>\n",
              "      <td>5</td>\n",
              "      <td>879795543</td>\n",
              "    </tr>\n",
              "    <tr>\n",
              "      <th>99997</th>\n",
              "      <td>276</td>\n",
              "      <td>1090</td>\n",
              "      <td>1</td>\n",
              "      <td>874795795</td>\n",
              "    </tr>\n",
              "    <tr>\n",
              "      <th>99998</th>\n",
              "      <td>13</td>\n",
              "      <td>225</td>\n",
              "      <td>2</td>\n",
              "      <td>882399156</td>\n",
              "    </tr>\n",
              "    <tr>\n",
              "      <th>99999</th>\n",
              "      <td>12</td>\n",
              "      <td>203</td>\n",
              "      <td>3</td>\n",
              "      <td>879959583</td>\n",
              "    </tr>\n",
              "  </tbody>\n",
              "</table>\n",
              "<p>100000 rows × 4 columns</p>\n",
              "</div>"
            ],
            "text/plain": [
              "       user_id  item_id  rating  timestamp\n",
              "0          196      242       3  881250949\n",
              "1          186      302       3  891717742\n",
              "2           22      377       1  878887116\n",
              "3          244       51       2  880606923\n",
              "4          166      346       1  886397596\n",
              "...        ...      ...     ...        ...\n",
              "99995      880      476       3  880175444\n",
              "99996      716      204       5  879795543\n",
              "99997      276     1090       1  874795795\n",
              "99998       13      225       2  882399156\n",
              "99999       12      203       3  879959583\n",
              "\n",
              "[100000 rows x 4 columns]"
            ]
          },
          "metadata": {
            "tags": []
          },
          "execution_count": 32
        }
      ]
    },
    {
      "cell_type": "code",
      "metadata": {
        "id": "RIv_DhiNpFnd",
        "colab_type": "code",
        "colab": {}
      },
      "source": [
        "n = 25\n",
        "m = 25\n",
        "R1 = np.zeros((n_u,n_m))\n",
        "for line in train_data.itertuples():\n",
        "    R1[line[1]-1, line[2]-1] = line[3]  \n",
        "    \n",
        "R = np.zeros((n,m))\n",
        "\n",
        "T1 = np.zeros((n_u, n_m))\n",
        "for line in test_data.itertuples():\n",
        "    T1[line[1]-1, line[2]-1] = line[3]\n",
        "\n",
        "T = np.zeros((n,m))"
      ],
      "execution_count": 0,
      "outputs": []
    },
    {
      "cell_type": "code",
      "metadata": {
        "id": "Fr3-gP2MpFnq",
        "colab_type": "code",
        "colab": {}
      },
      "source": [
        "k = 10  # Number of latent factor pairs\n",
        "lmbda = 0.5 # Regularisation strength\n",
        "gamma= 0.01  # Learning rate\n",
        "n_epochs = 40  # Number of loops through training data\n",
        "U = 3 * np.random.rand(k, n) # Latent factors for users\n",
        "V = 3 * np.random.rand(k, m) # Latent factors for items\n",
        "\n",
        "# pprint(U)\n",
        "# pprint(V)"
      ],
      "execution_count": 0,
      "outputs": []
    },
    {
      "cell_type": "code",
      "metadata": {
        "id": "at8-dUhvpFn1",
        "colab_type": "code",
        "colab": {}
      },
      "source": [
        "# Global Variables for Updation\n",
        "U_temp = np.zeros((k, n))\n",
        "V_temp = np.zeros((k, m))"
      ],
      "execution_count": 0,
      "outputs": []
    },
    {
      "cell_type": "code",
      "metadata": {
        "id": "rHQsex8YpFoA",
        "colab_type": "code",
        "colab": {}
      },
      "source": [
        "def thread_sgd(lock, R, U, V, p, q, d):\n",
        "        \n",
        "    lmbda = 0.1           # Penalty Parameter for regularization\n",
        "    gamma = 0.001   # Step Size\n",
        "        \n",
        "\n",
        "    users,items = R.nonzero()      \n",
        "    for epoch in range(n_epochs):\n",
        "      for i, j in zip(users,items):\n",
        "          error = R[i, j] - np.dot(U[:,i].T, V[:,j])  # Error for this observation\n",
        "          U[:,i] += gamma * ( error * V[:,j] - (lmbda/m) * U[:,i]) # Update this user's features\n",
        "          V[:,j] += gamma * ( error * U[:,i] - (lmbda/n) * V[:,j])  # Update this item's features\n",
        "    #return U, V\n",
        "    if p==0:\n",
        "        start = 0\n",
        "        end = d\n",
        "    else:\n",
        "        start = d*(p-1)\n",
        "        end = d*p\n",
        "\n",
        "    U_temp[:,start:end] = U\n",
        "    V_temp[:,d*(q-1):d*q] = V\n",
        "\n",
        "\n",
        "\n"
      ],
      "execution_count": 0,
      "outputs": []
    },
    {
      "cell_type": "code",
      "metadata": {
        "id": "uXAxzw-FpFoJ",
        "colab_type": "code",
        "colab": {
          "base_uri": "https://localhost:8080/",
          "height": 50
        },
        "outputId": "5e00fa6b-044b-41f2-c732-517d386e6929"
      },
      "source": [
        "# Applying Distributed Stochastic Gradient Descent\n",
        "\n",
        "from itertools import permutations\n",
        "import threading\n",
        "\n",
        "d = 5  # Number of processors\n",
        "permutation_set = list(permutations(range(1,6)))\n",
        "lock = threading.Lock() # Defining Lock For Threading\n",
        "\n",
        "for strata in permutation_set:\n",
        "        \n",
        "    p=0\n",
        "    q=strata[p]\n",
        "    start = 0\n",
        "    end = d\n",
        "    t1 = threading.Thread(target=thread_sgd, args=(lock,R[start:end, d*(q-1):d*q], U[:, start:end], V[:, d*(q-1):d*q], p, q, d)) \n",
        "    \n",
        "    p=1\n",
        "    q=strata[p]\n",
        "    start = d*(p-1)\n",
        "    end = d*p\n",
        "    t2 = threading.Thread(target=thread_sgd, args=(lock,R[start:end, d*(q-1):d*q], U[:, start:end], V[:, d*(q-1):d*q], p, q, d)) \n",
        "    \n",
        "    p=2\n",
        "    q=strata[p]\n",
        "    start = d*(p-1)\n",
        "    end = d*p\n",
        "    t3 = threading.Thread(target=thread_sgd, args=(lock,R[start:end, d*(q-1):d*q], U[:, start:end], V[:, d*(q-1):d*q], p, q, d)) \n",
        "    \n",
        "    p=3\n",
        "    q=strata[p]\n",
        "    start = d*(p-1)\n",
        "    end = d*p\n",
        "    t4 = threading.Thread(target=thread_sgd, args=(lock,R[start:end, d*(q-1):d*q], U[:, start:end], V[:, d*(q-1):d*q], p, q, d)) \n",
        "    \n",
        "    p=4\n",
        "    q=strata[p]\n",
        "    start = d*(p-1)\n",
        "    end = d*p\n",
        "    t5 = threading.Thread(target=thread_sgd, args=(lock,R[start:end, d*(q-1):d*q], U[:, start:end], V[:, d*(q-1):d*q], p, q, d)) \n",
        "\n",
        "    # start threads \n",
        "    t1.start() \n",
        "    t2.start() \n",
        "    t3.start() \n",
        "    t4.start() \n",
        "    t5.start() \n",
        "\n",
        "    t1.join() \n",
        "    t2.join() \n",
        "    t3.join() \n",
        "    t4.join() \n",
        "    t5.join() \n",
        "            \n",
        "    U = U_temp\n",
        "    V = V_temp\n",
        "\n",
        "utv_after = np.dot(U.T, V)\n",
        "print(\"MAE : \", metrics.mean_absolute_error(T, utv_after))\n",
        "print(\"MSE : \", metrics.mean_squared_error(T, utv_after))    "
      ],
      "execution_count": 40,
      "outputs": [
        {
          "output_type": "stream",
          "text": [
            "MAE :  19.198133697019816\n",
            "MSE :  495.4817020973104\n"
          ],
          "name": "stdout"
        }
      ]
    },
    {
      "cell_type": "code",
      "metadata": {
        "id": "V2TGhAXcpFoU",
        "colab_type": "code",
        "colab": {}
      },
      "source": [
        ""
      ],
      "execution_count": 0,
      "outputs": []
    }
  ]
}