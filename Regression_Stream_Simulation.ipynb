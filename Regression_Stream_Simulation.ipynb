{
  "nbformat": 4,
  "nbformat_minor": 0,
  "metadata": {
    "kernelspec": {
      "display_name": "Python 3",
      "language": "python",
      "name": "python3"
    },
    "language_info": {
      "codemirror_mode": {
        "name": "ipython",
        "version": 3
      },
      "file_extension": ".py",
      "mimetype": "text/x-python",
      "name": "python",
      "nbconvert_exporter": "python",
      "pygments_lexer": "ipython3",
      "version": "3.7.3"
    },
    "colab": {
      "name": "AOBD-Assignment-2.ipynb",
      "provenance": [],
      "collapsed_sections": []
    }
  },
  "cells": [
    {
      "cell_type": "markdown",
      "metadata": {
        "id": "UYBoKlTo7fOM",
        "colab_type": "text"
      },
      "source": [
        "**Code for Multiple Linear Regression using Gradient Descent (stream data) (Hint: Stochastic Gradient Descent)**"
      ]
    },
    {
      "cell_type": "code",
      "metadata": {
        "id": "3Uf69oPR7fOO",
        "colab_type": "code",
        "outputId": "2737b4da-e48e-46fc-e375-77b164d6e917",
        "colab": {
          "base_uri": "https://localhost:8080/",
          "height": 69
        }
      },
      "source": [
        "#Multiple Linear Regression using Gradient Descent (stream data) (Hint: Stochastic Gradient Descent)\n",
        "import numpy as np\n",
        "from sklearn import datasets, metrics\n",
        "from numpy.linalg import inv, pinv, LinAlgError\n",
        "\n",
        "\n",
        "#Reading data from a csv file\n",
        "from pandas import read_csv\n",
        "data=read_csv(filepath_or_buffer=\"diabetes.csv\", header='infer')\n",
        "print(type(data))\n",
        "data=data.values\n",
        "print(\"Type:\",type(data))\n",
        "print(\"Shape:\",data.shape)"
      ],
      "execution_count": 3,
      "outputs": [
        {
          "output_type": "stream",
          "text": [
            "<class 'pandas.core.frame.DataFrame'>\n",
            "Type: <class 'numpy.ndarray'>\n",
            "Shape: (768, 9)\n"
          ],
          "name": "stdout"
        }
      ]
    },
    {
      "cell_type": "markdown",
      "metadata": {
        "id": "ADIb78xn7fOW",
        "colab_type": "text"
      },
      "source": [
        "**Code for Train & Test data and Normalization of the data**"
      ]
    },
    {
      "cell_type": "code",
      "metadata": {
        "id": "rArAAZ1h7fOX",
        "colab_type": "code",
        "outputId": "799a032d-87de-4b4c-a4a0-0a9842a07711",
        "colab": {
          "base_uri": "https://localhost:8080/",
          "height": 121
        }
      },
      "source": [
        "# for Multiple linear regression \n",
        "# total 768 values in the datasets hence for training 614 and testing  154 values \n",
        "# load the training and testing values and display their shapes\n",
        "from sklearn.preprocessing import StandardScaler\n",
        "\n",
        "X= data[:,0:8]\n",
        "y= data[:,-1]\n",
        "print(\"Shape of X=\",X.shape)\n",
        "print(\"Shape of y=\",y.shape)\n",
        "\n",
        "\n",
        "X_train_temp1=X[0:614,:]\n",
        "X_train=np.zeros((X_train_temp1.shape[0],X_train_temp1.shape[1]+1))\n",
        "X_train[:,0]=np.ones((X_train_temp1.shape[0]))\n",
        "X_train[:,1:]=X_train_temp1\n",
        "print(\"Type of X_train:\", type(X_train), \"Shape of X_train:\", X_train.shape)\n",
        "\n",
        "y_train=y[0:614]\n",
        "\n",
        "X_test_temp1=X[614:768,:]\n",
        "X_test=np.zeros((X_test_temp1.shape[0],X_test_temp1.shape[1]+1))\n",
        "X_test[:,0]=np.ones((X_test_temp1.shape[0]))\n",
        "X_test[:,1:]=X_test_temp1\n",
        "print(\"Type of X_test:\", type(X_test), \"Shape of X_test:\", X_test.shape)\n",
        "\n",
        "y_test=y[614:768]\n",
        "\n",
        "# this 2 line is added for the checking purpose\n",
        "print(\"Type of y_train:\", type(y_train), \"Shape of y_train:\", y_train.shape)\n",
        "print(\"Type of y_test:\", type(y_test), \"Shape of y_test:\", y_test.shape)\n",
        "\n",
        "\n",
        "\n",
        "scaler=StandardScaler()\n",
        "scaler.fit(X_train[:,1:])\n",
        "X_train[:,1:]=scaler.transform(X_train[:,1:])\n",
        "X_test[:,1:]=scaler.transform(X_test[:,1:])"
      ],
      "execution_count": 4,
      "outputs": [
        {
          "output_type": "stream",
          "text": [
            "Shape of X= (768, 8)\n",
            "Shape of y= (768,)\n",
            "Type of X_train: <class 'numpy.ndarray'> Shape of X_train: (614, 9)\n",
            "Type of X_test: <class 'numpy.ndarray'> Shape of X_test: (154, 9)\n",
            "Type of y_train: <class 'numpy.ndarray'> Shape of y_train: (614,)\n",
            "Type of y_test: <class 'numpy.ndarray'> Shape of y_test: (154,)\n"
          ],
          "name": "stdout"
        }
      ]
    },
    {
      "cell_type": "markdown",
      "metadata": {
        "id": "u-rYr3fX7fOe",
        "colab_type": "text"
      },
      "source": [
        "**Code for calculating Stochastic Gradient descent (for each tuple value we need to calculate & update theta)**"
      ]
    },
    {
      "cell_type": "code",
      "metadata": {
        "id": "0keRw4707fOf",
        "colab_type": "code",
        "outputId": "d59de65b-3b1e-40ad-e21f-2ca3bf917ef6",
        "colab": {
          "base_uri": "https://localhost:8080/",
          "height": 121
        }
      },
      "source": [
        "# For the stochastic gradient descent , we need to update theta for each tuple.\n",
        "theta=np.random.uniform(0,1,size=(X_train.shape[1]))\n",
        "print(\"Type of theta:\", type(theta), \"Shape of Theta:\", theta.shape)\n",
        "\n",
        "niterations=500\n",
        "alpha=0.01\n",
        "m=X_train.shape[0]\n",
        "n=X_train.shape[1]\n",
        "\n",
        "for i in range(niterations):\n",
        "    update=np.zeros(X_train.shape[1])\n",
        "    \n",
        "    for k in range(m):       # it will check & update gradient for each tuple \n",
        "        ypred=np.dot(X_train[k],theta)        \n",
        "        error=ypred - y_train[k]\n",
        "        for j in range(n):\n",
        "            update[j]=np.sum(error*(X_train[k].T)[j])\n",
        "        theta = theta - (1/m)*(alpha)*update\n",
        "\n",
        "    \n",
        "print(\"Theta:\",theta)\n",
        "print(\"Theta Shape:\", theta.shape)\n",
        "\n",
        "predictions=np.dot(X_test, theta)\n",
        "\n",
        "print(\"MAE:\", metrics.mean_absolute_error(y_true=y_test,y_pred=predictions))\n",
        "print(\"MSE:\", metrics.mean_squared_error(y_true=y_test,y_pred=predictions))"
      ],
      "execution_count": 5,
      "outputs": [
        {
          "output_type": "stream",
          "text": [
            "Type of theta: <class 'numpy.ndarray'> Shape of Theta: (9,)\n",
            "Theta: [ 0.34491115  0.05638937  0.16958141 -0.05178554 -0.00049856 -0.01718017\n",
            "  0.12539995  0.05822292  0.03972358]\n",
            "Theta Shape: (9,)\n",
            "MAE: 0.34352785976220684\n",
            "MSE: 0.16073981135595813\n"
          ],
          "name": "stdout"
        }
      ]
    },
    {
      "cell_type": "markdown",
      "metadata": {
        "id": "yIvz1D0X7fOw",
        "colab_type": "text"
      },
      "source": [
        "**Code for Simple Linear Regression using Gradient Descent (stream data) (Hint: Stochastic Gradient Descent)**"
      ]
    },
    {
      "cell_type": "code",
      "metadata": {
        "id": "6VM52XfZ7fOy",
        "colab_type": "code",
        "outputId": "c282e862-d2c7-4bd4-a379-076355beb2eb",
        "colab": {
          "base_uri": "https://localhost:8080/",
          "height": 190
        }
      },
      "source": [
        "# for Simple linear regression \n",
        "# total 768 values in the datasets hence for training 614 and testing  154 values \n",
        "# load the training and testing values and display their shapes\n",
        "from sklearn.preprocessing import StandardScaler\n",
        "\n",
        "# here we take data of only 1 column that is of Blood Pressure's column\n",
        "X= data[:,2]\n",
        "y= data[:,-1]\n",
        "print(\"Shape of X=\",X.shape)\n",
        "print(\"Shape of y=\",y.shape)\n",
        "\n",
        "\n",
        "X_train_temp1=X[0:614]\n",
        "print(\"X_train_temp1.shape[0]\", X_train_temp1.shape[0])\n",
        "#print(\"X_train_temp1.shape[1]\", X_train_temp1.shape[1])\n",
        "\n",
        "X_train=np.zeros((X_train_temp1.shape[0],2))\n",
        "print(\"X_train shape\",X_train.shape)\n",
        "\n",
        "# below 2 line code is to check for whether extra colum is added succesfully or not\n",
        "print(\"X_train.shape[0]\", X_train.shape[0])\n",
        "print(\"X_train.shape[1]\", X_train.shape[1])\n",
        "\n",
        "# this line is changed \n",
        "#X_train=np.zeros((X_train_temp1.shape[0],X_train_temp1.shape[1]+1))\n",
        "X_train[:,0]=np.ones((X_train_temp1.shape[0]))\n",
        "X_train[:,1]=X_train_temp1\n",
        "print(\"Type of X_train:\", type(X_train), \"Shape of X_train:\", X_train.shape)\n",
        "\n",
        "\n",
        "y_train=y[0:614]\n",
        "\n",
        "X_test_temp1=X[614:768]\n",
        "X_test=np.zeros((X_test_temp1.shape[0],2))\n",
        "X_test[:,0]=np.ones((X_test_temp1.shape[0]))\n",
        "X_test[:,1]=X_test_temp1\n",
        "print(\"Type of X_test:\", type(X_test), \"Shape of X_test:\", X_test.shape)\n",
        "\n",
        "\n",
        "y_test=y[614:768]\n",
        "\n",
        "# this 2 line is added for the checking purpose\n",
        "print(\"Type of y_train:\", type(y_train), \"Shape of y_train:\", y_train.shape)\n",
        "print(\"Type of y_test:\", type(y_test), \"Shape of y_test:\", y_test.shape)\n",
        "\n",
        "\n",
        "\n",
        "scaler=StandardScaler()\n",
        "scaler.fit(X_train[:,1:])\n",
        "X_train[:,1:]=scaler.transform(X_train[:,1:])\n",
        "X_test[:,1:]=scaler.transform(X_test[:,1:])"
      ],
      "execution_count": 6,
      "outputs": [
        {
          "output_type": "stream",
          "text": [
            "Shape of X= (768,)\n",
            "Shape of y= (768,)\n",
            "X_train_temp1.shape[0] 614\n",
            "X_train shape (614, 2)\n",
            "X_train.shape[0] 614\n",
            "X_train.shape[1] 2\n",
            "Type of X_train: <class 'numpy.ndarray'> Shape of X_train: (614, 2)\n",
            "Type of X_test: <class 'numpy.ndarray'> Shape of X_test: (154, 2)\n",
            "Type of y_train: <class 'numpy.ndarray'> Shape of y_train: (614,)\n",
            "Type of y_test: <class 'numpy.ndarray'> Shape of y_test: (154,)\n"
          ],
          "name": "stdout"
        }
      ]
    },
    {
      "cell_type": "code",
      "metadata": {
        "id": "3ewBUyiP7fO6",
        "colab_type": "code",
        "outputId": "aa48c9c2-0d7a-4d1f-f217-b364020e19d5",
        "colab": {
          "base_uri": "https://localhost:8080/",
          "height": 104
        }
      },
      "source": [
        "# For the stochastic gradient descent , we need to update theta for each tuple.\n",
        "theta=np.random.uniform(0,1,size=(X_train.shape[1]))\n",
        "print(\"Type of theta:\", type(theta), \"Shape of Theta:\", theta.shape)\n",
        "\n",
        "niterations=500\n",
        "alpha=0.01\n",
        "m=X_train.shape[0]\n",
        "n=X_train.shape[1]\n",
        "\n",
        "for i in range(niterations):\n",
        "    update=np.zeros(X_train.shape[1])\n",
        "    \n",
        "    for k in range(m):       # it will check & update gradient for each tuple \n",
        "        ypred=np.dot(X_train[k],theta)        \n",
        "        error=ypred - y_train[k]\n",
        "        for j in range(n):\n",
        "            update[j]=np.sum(error*(X_train[k].T)[j])\n",
        "        theta = theta - (1/m)*(alpha)*update\n",
        "\n",
        "    \n",
        "print(\"Theta:\",theta)\n",
        "print(\"Theta Shape:\", theta.shape)\n",
        "\n",
        "predictions=np.dot(X_test, theta)\n",
        "\n",
        "print(\"MAE:\", metrics.mean_absolute_error(y_true=y_test,y_pred=predictions))\n",
        "print(\"MSE:\", metrics.mean_squared_error(y_true=y_test,y_pred=predictions))"
      ],
      "execution_count": 7,
      "outputs": [
        {
          "output_type": "stream",
          "text": [
            "Type of theta: <class 'numpy.ndarray'> Shape of Theta: (2,)\n",
            "Theta: [0.35063962 0.02972586]\n",
            "Theta Shape: (2,)\n",
            "MAE: 0.45627138702347997\n",
            "MSE: 0.2280392133467491\n"
          ],
          "name": "stdout"
        }
      ]
    }
  ]
}